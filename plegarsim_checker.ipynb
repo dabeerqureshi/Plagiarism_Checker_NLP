{
 "cells": [
  {
   "cell_type": "code",
   "execution_count": 8,
   "id": "73f637aa-30f7-4c94-9328-9d426d8f9225",
   "metadata": {},
   "outputs": [],
   "source": [
    "import os"
   ]
  },
  {
   "cell_type": "code",
   "execution_count": 9,
   "id": "d6ced221-a7c9-48f2-89ea-fecd58d597e3",
   "metadata": {},
   "outputs": [],
   "source": [
    "from sklearn.feature_extraction.text import TfidfVectorizer"
   ]
  },
  {
   "cell_type": "code",
   "execution_count": 41,
   "id": "52907cd4-9968-4980-8442-fba25efc1ef0",
   "metadata": {},
   "outputs": [],
   "source": [
    "from sklearn.metrics.pairwise import cosine_similarity"
   ]
  },
  {
   "cell_type": "code",
   "execution_count": 42,
   "id": "10ccf740-df4e-4249-958c-d4b4dc22a5ba",
   "metadata": {},
   "outputs": [],
   "source": [
    "student_files = [doc for doc in os.listdir() if doc.endswith('.txt')]"
   ]
  },
  {
   "cell_type": "code",
   "execution_count": 43,
   "id": "ed381270-fa6a-4628-ac6a-f25ddc408952",
   "metadata": {},
   "outputs": [
    {
     "data": {
      "text/plain": [
       "['fatma.txt', 'john.txt', 'juma.txt', 'requirements.txt']"
      ]
     },
     "execution_count": 43,
     "metadata": {},
     "output_type": "execute_result"
    }
   ],
   "source": [
    "student_files"
   ]
  },
  {
   "cell_type": "code",
   "execution_count": 44,
   "id": "20481d8f-495c-435d-9d33-80924d821fd6",
   "metadata": {},
   "outputs": [],
   "source": [
    "student_notes = [open(_file, encoding='utf-8').read() for _file in student_files]"
   ]
  },
  {
   "cell_type": "code",
   "execution_count": 45,
   "id": "73e6dd9e-43bb-4333-99fc-695b33976b55",
   "metadata": {},
   "outputs": [
    {
     "data": {
      "text/plain": [
       "['life is all about doing your best in tyring to\\nfind what works out for you and talking most time in\\ntrying to pursue those skills',\n",
       " 'life is all about finding money and spending on luxury stuffs\\nCoz this life is kinda short, trust',\n",
       " 'life to me is about finding money and use it on things that makes you happy\\ncoz this life is kinda short',\n",
       " 'scikit_learn==0.24.2']"
      ]
     },
     "execution_count": 45,
     "metadata": {},
     "output_type": "execute_result"
    }
   ],
   "source": [
    "student_notes"
   ]
  },
  {
   "cell_type": "code",
   "execution_count": 46,
   "id": "26a0139b-5655-4e63-98ff-78e683e672e8",
   "metadata": {},
   "outputs": [],
   "source": [
    "# to numerical from text\n",
    "def vectorize(text):\n",
    "    return TfidfVectorizer().fit_transform(text).toarray()"
   ]
  },
  {
   "cell_type": "code",
   "execution_count": 60,
   "id": "7acba9fa-3094-4a0b-a9ac-1fd8a3540457",
   "metadata": {},
   "outputs": [],
   "source": [
    "def similarity(doc1,doc2):\n",
    "    return cosine_similarity([doc1,doc2])"
   ]
  },
  {
   "cell_type": "code",
   "execution_count": 61,
   "id": "af43c40c-a83f-44b5-9dba-a4115e452523",
   "metadata": {},
   "outputs": [],
   "source": [
    "vectors = vectorize(student_notes)"
   ]
  },
  {
   "cell_type": "code",
   "execution_count": 62,
   "id": "11c4a89f-b95e-46cb-8c97-1cee60f397a7",
   "metadata": {},
   "outputs": [
    {
     "data": {
      "text/plain": [
       "array([[0.        , 0.12675009, 0.15656158, 0.12675009, 0.19857851,\n",
       "        0.        , 0.19857851, 0.19857851, 0.        , 0.19857851,\n",
       "        0.        , 0.39715702, 0.12675009, 0.        , 0.        ,\n",
       "        0.12675009, 0.        , 0.        , 0.        , 0.        ,\n",
       "        0.19857851, 0.        , 0.19857851, 0.19857851, 0.        ,\n",
       "        0.        , 0.19857851, 0.        , 0.        , 0.19857851,\n",
       "        0.        , 0.        , 0.        , 0.19857851, 0.19857851,\n",
       "        0.31312316, 0.        , 0.19857851, 0.19857851, 0.        ,\n",
       "        0.19857851, 0.19857851, 0.15656158, 0.19857851],\n",
       "       [0.        , 0.17671088, 0.21827309, 0.17671088, 0.        ,\n",
       "        0.21827309, 0.        , 0.        , 0.21827309, 0.        ,\n",
       "        0.        , 0.        , 0.35342175, 0.        , 0.21827309,\n",
       "        0.35342175, 0.27685174, 0.        , 0.        , 0.21827309,\n",
       "        0.        , 0.21827309, 0.        , 0.        , 0.        ,\n",
       "        0.21827309, 0.        , 0.27685174, 0.27685174, 0.        ,\n",
       "        0.        , 0.        , 0.21827309, 0.        , 0.        ,\n",
       "        0.        , 0.27685174, 0.        , 0.        , 0.        ,\n",
       "        0.        , 0.        , 0.        , 0.        ],\n",
       "       [0.        , 0.15633945, 0.        , 0.15633945, 0.        ,\n",
       "        0.19311033, 0.        , 0.        , 0.19311033, 0.        ,\n",
       "        0.24493596, 0.        , 0.3126789 , 0.24493596, 0.19311033,\n",
       "        0.3126789 , 0.        , 0.24493596, 0.24493596, 0.19311033,\n",
       "        0.        , 0.19311033, 0.        , 0.        , 0.        ,\n",
       "        0.19311033, 0.        , 0.        , 0.        , 0.        ,\n",
       "        0.24493596, 0.24493596, 0.19311033, 0.        , 0.        ,\n",
       "        0.19311033, 0.        , 0.        , 0.        , 0.24493596,\n",
       "        0.        , 0.        , 0.19311033, 0.        ],\n",
       "       [0.70710678, 0.        , 0.        , 0.        , 0.        ,\n",
       "        0.        , 0.        , 0.        , 0.        , 0.        ,\n",
       "        0.        , 0.        , 0.        , 0.        , 0.        ,\n",
       "        0.        , 0.        , 0.        , 0.        , 0.        ,\n",
       "        0.        , 0.        , 0.        , 0.        , 0.70710678,\n",
       "        0.        , 0.        , 0.        , 0.        , 0.        ,\n",
       "        0.        , 0.        , 0.        , 0.        , 0.        ,\n",
       "        0.        , 0.        , 0.        , 0.        , 0.        ,\n",
       "        0.        , 0.        , 0.        , 0.        ]])"
      ]
     },
     "execution_count": 62,
     "metadata": {},
     "output_type": "execute_result"
    }
   ],
   "source": [
    "vectors"
   ]
  },
  {
   "cell_type": "code",
   "execution_count": 63,
   "id": "ea1d99df-e7ee-454c-a35a-8d8828ae2cb5",
   "metadata": {},
   "outputs": [],
   "source": [
    "s_vectors = list(zip(student_files,vectors))"
   ]
  },
  {
   "cell_type": "code",
   "execution_count": 64,
   "id": "766020b2-a2c9-4a8e-8d3e-9d97aacd697a",
   "metadata": {},
   "outputs": [
    {
     "data": {
      "text/plain": [
       "[('fatma.txt',\n",
       "  array([0.        , 0.12675009, 0.15656158, 0.12675009, 0.19857851,\n",
       "         0.        , 0.19857851, 0.19857851, 0.        , 0.19857851,\n",
       "         0.        , 0.39715702, 0.12675009, 0.        , 0.        ,\n",
       "         0.12675009, 0.        , 0.        , 0.        , 0.        ,\n",
       "         0.19857851, 0.        , 0.19857851, 0.19857851, 0.        ,\n",
       "         0.        , 0.19857851, 0.        , 0.        , 0.19857851,\n",
       "         0.        , 0.        , 0.        , 0.19857851, 0.19857851,\n",
       "         0.31312316, 0.        , 0.19857851, 0.19857851, 0.        ,\n",
       "         0.19857851, 0.19857851, 0.15656158, 0.19857851])),\n",
       " ('john.txt',\n",
       "  array([0.        , 0.17671088, 0.21827309, 0.17671088, 0.        ,\n",
       "         0.21827309, 0.        , 0.        , 0.21827309, 0.        ,\n",
       "         0.        , 0.        , 0.35342175, 0.        , 0.21827309,\n",
       "         0.35342175, 0.27685174, 0.        , 0.        , 0.21827309,\n",
       "         0.        , 0.21827309, 0.        , 0.        , 0.        ,\n",
       "         0.21827309, 0.        , 0.27685174, 0.27685174, 0.        ,\n",
       "         0.        , 0.        , 0.21827309, 0.        , 0.        ,\n",
       "         0.        , 0.27685174, 0.        , 0.        , 0.        ,\n",
       "         0.        , 0.        , 0.        , 0.        ])),\n",
       " ('juma.txt',\n",
       "  array([0.        , 0.15633945, 0.        , 0.15633945, 0.        ,\n",
       "         0.19311033, 0.        , 0.        , 0.19311033, 0.        ,\n",
       "         0.24493596, 0.        , 0.3126789 , 0.24493596, 0.19311033,\n",
       "         0.3126789 , 0.        , 0.24493596, 0.24493596, 0.19311033,\n",
       "         0.        , 0.19311033, 0.        , 0.        , 0.        ,\n",
       "         0.19311033, 0.        , 0.        , 0.        , 0.        ,\n",
       "         0.24493596, 0.24493596, 0.19311033, 0.        , 0.        ,\n",
       "         0.19311033, 0.        , 0.        , 0.        , 0.24493596,\n",
       "         0.        , 0.        , 0.19311033, 0.        ])),\n",
       " ('requirements.txt',\n",
       "  array([0.70710678, 0.        , 0.        , 0.        , 0.        ,\n",
       "         0.        , 0.        , 0.        , 0.        , 0.        ,\n",
       "         0.        , 0.        , 0.        , 0.        , 0.        ,\n",
       "         0.        , 0.        , 0.        , 0.        , 0.        ,\n",
       "         0.        , 0.        , 0.        , 0.        , 0.70710678,\n",
       "         0.        , 0.        , 0.        , 0.        , 0.        ,\n",
       "         0.        , 0.        , 0.        , 0.        , 0.        ,\n",
       "         0.        , 0.        , 0.        , 0.        , 0.        ,\n",
       "         0.        , 0.        , 0.        , 0.        ]))]"
      ]
     },
     "execution_count": 64,
     "metadata": {},
     "output_type": "execute_result"
    }
   ],
   "source": [
    "s_vectors"
   ]
  },
  {
   "cell_type": "code",
   "execution_count": 65,
   "id": "3312ac5d-18d2-4244-8bb8-bb0dfbb1ff4c",
   "metadata": {},
   "outputs": [],
   "source": [
    "plagiarism_results = set()"
   ]
  },
  {
   "cell_type": "code",
   "execution_count": 66,
   "id": "c76bfa6a-0329-44f2-9dab-7a947b6a9f78",
   "metadata": {},
   "outputs": [],
   "source": [
    "def check_plagiarism():\n",
    "    global s_vectors\n",
    "    for student_a, text_vector_a, in s_vectors:\n",
    "        new_vectors = s_vectors.copy()\n",
    "        current_index = new_vectors.index((student_a,text_vector_a))\n",
    "        print(current_index)\n",
    "        del new_vectors[current_index]\n",
    "        for student_b, text_vector_b in new_vectors:\n",
    "            sim_score = similarity(text_vector_a,text_vector_b)[0][1]\n",
    "            student_pair=sorted((student_a,student_b))\n",
    "            print(similarity(text_vector_a,text_vector_b))\n",
    "            print(student_pair)\n",
    "            score = (student_pair[0], student_pair[1], sim_score)\n",
    "            plagiarism_results.add(score)\n",
    "    return plagiarism_results"
   ]
  },
  {
   "cell_type": "code",
   "execution_count": 59,
   "id": "0d89375f-73c2-4e9c-985d-32e1ccf69e55",
   "metadata": {},
   "outputs": [
    {
     "name": "stdout",
     "output_type": "stream",
     "text": [
      "0\n",
      "[[1. 1.]\n",
      " [1. 1.]]\n",
      "['fatma.txt', 'fatma.txt']\n",
      "[[1.        0.1685619]\n",
      " [0.1685619 1.       ]]\n",
      "['fatma.txt', 'john.txt']\n",
      "[[1.         0.20959721]\n",
      " [0.20959721 1.        ]]\n",
      "['fatma.txt', 'juma.txt']\n",
      "[[1. 0.]\n",
      " [0. 1.]]\n",
      "['fatma.txt', 'requirements.txt']\n",
      "1\n",
      "[[1.        0.1685619]\n",
      " [0.1685619 1.       ]]\n",
      "['fatma.txt', 'john.txt']\n",
      "[[1. 1.]\n",
      " [1. 1.]]\n",
      "['john.txt', 'john.txt']\n",
      "[[1.         0.57132433]\n",
      " [0.57132433 1.        ]]\n",
      "['john.txt', 'juma.txt']\n",
      "[[1. 0.]\n",
      " [0. 1.]]\n",
      "['john.txt', 'requirements.txt']\n",
      "2\n",
      "[[1.         0.20959721]\n",
      " [0.20959721 1.        ]]\n",
      "['fatma.txt', 'juma.txt']\n",
      "[[1.         0.57132433]\n",
      " [0.57132433 1.        ]]\n",
      "['john.txt', 'juma.txt']\n",
      "[[1. 1.]\n",
      " [1. 1.]]\n",
      "['juma.txt', 'juma.txt']\n",
      "[[1. 0.]\n",
      " [0. 1.]]\n",
      "['juma.txt', 'requirements.txt']\n",
      "3\n",
      "[[1. 0.]\n",
      " [0. 1.]]\n",
      "['fatma.txt', 'requirements.txt']\n",
      "[[1. 0.]\n",
      " [0. 1.]]\n",
      "['john.txt', 'requirements.txt']\n",
      "[[1. 0.]\n",
      " [0. 1.]]\n",
      "['juma.txt', 'requirements.txt']\n",
      "[[1. 1.]\n",
      " [1. 1.]]\n",
      "['requirements.txt', 'requirements.txt']\n",
      "('john.txt', 'juma.txt', 0.5713243251172899)\n",
      "('juma.txt', 'juma.txt', 1.0)\n",
      "('fatma.txt', 'john.txt', 0.168561896686747)\n",
      "('fatma.txt', 'fatma.txt', 1.0000000000000004)\n",
      "('fatma.txt', 'juma.txt', 0.20959720990348715)\n",
      "('john.txt', 'john.txt', 1.0000000000000002)\n",
      "('requirements.txt', 'requirements.txt', 1.0000000000000002)\n",
      "('fatma.txt', 'requirements.txt', 0.0)\n",
      "('juma.txt', 'requirements.txt', 0.0)\n",
      "('john.txt', 'requirements.txt', 0.0)\n"
     ]
    }
   ],
   "source": [
    "for data in check_plagiarism():\n",
    "    print(data)"
   ]
  },
  {
   "cell_type": "code",
   "execution_count": null,
   "id": "938a2fd8-3839-4463-b1fd-5610dd02c2d4",
   "metadata": {},
   "outputs": [],
   "source": []
  }
 ],
 "metadata": {
  "kernelspec": {
   "display_name": "Python 3 (ipykernel)",
   "language": "python",
   "name": "python3"
  },
  "language_info": {
   "codemirror_mode": {
    "name": "ipython",
    "version": 3
   },
   "file_extension": ".py",
   "mimetype": "text/x-python",
   "name": "python",
   "nbconvert_exporter": "python",
   "pygments_lexer": "ipython3",
   "version": "3.11.5"
  }
 },
 "nbformat": 4,
 "nbformat_minor": 5
}
